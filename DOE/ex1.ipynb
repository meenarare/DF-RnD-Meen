{
 "metadata": {
  "language_info": {
   "codemirror_mode": {
    "name": "ipython",
    "version": 3
   },
   "file_extension": ".py",
   "mimetype": "text/x-python",
   "name": "python",
   "nbconvert_exporter": "python",
   "pygments_lexer": "ipython3",
   "version": "3.8.5-final"
  },
  "orig_nbformat": 2,
  "kernelspec": {
   "name": "python3",
   "display_name": "Python 3.8.5 64-bit ('base': conda)",
   "metadata": {
    "interpreter": {
     "hash": "e5e8936b35ae2ff82fa3c50ddf2998722acd13e83eaad9f62c0e4c9661cfcdaf"
    }
   }
  }
 },
 "nbformat": 4,
 "nbformat_minor": 2,
 "cells": [
  {
   "cell_type": "code",
   "execution_count": 1,
   "metadata": {},
   "outputs": [],
   "source": [
    "import re\n",
    "import string\n",
    "import codecs\n",
    "import pickle\n",
    "import pandas as pd\n",
    "import numpy as np\n",
    "from collections import Counter\n",
    "\n",
    "from pythainlp.tokenize import word_tokenize\n",
    "from pythainlp import word_vector, Tokenizer, sent_tokenize\n",
    "from pythainlp.util import dict_trie, normalize\n",
    "from pythainlp.ulmfit import *\n",
    "from pythainlp.corpus.common import thai_words\n",
    "from pythainlp.corpus import thai_stopwords, wordnet\n",
    "\n",
    "from sklearn.model_selection import train_test_split\n",
    "from sklearn.manifold import TSNE\n",
    "from sklearn.feature_extraction.text import TfidfVectorizer\n",
    "from sklearn.linear_model import LogisticRegression\n",
    "from sklearn.tree import DecisionTreeClassifier\n",
    "from sklearn.ensemble import RandomForestClassifier"
   ]
  },
  {
   "source": [
    "df_p = pd.read_csv('1.csv').applymap(str) #position name\n",
    "df_d = pd.read_csv('2544_text.csv').rename(columns={\"Position\":\"Description\"}).applymap(str) #description\n",
    "\n",
    "df = pd.concat([df_d,df_p.rename(columns={'Position':'Description'})],axis=0) #cancat df_d and df_p"
   ],
   "cell_type": "code",
   "metadata": {},
   "execution_count": 2,
   "outputs": []
  },
  {
   "source": [
    "y_train = df_d[\"Classification\"]\n",
    "\n",
    "tfidf = TfidfVectorizer( ngram_range=(1,2),tokenizer=process_thai,                             \n",
    "                        sublinear_tf=True,\n",
    "                        )\n",
    "tfidf_fit = tfidf.fit(df[\"Description\"])\n",
    "X_train = tfidf_fit.transform(df_d[\"Description\"])\n",
    "\n"
   ],
   "cell_type": "code",
   "metadata": {},
   "execution_count": 3,
   "outputs": []
  },
  {
   "source": [
    "lgt = LogisticRegression(C=2., penalty=\"l2\", solver=\"liblinear\", dual=False, multi_class=\"ovr\")\n",
    "lgt.fit(X_train,y_train)\n",
    "lgt.score(X_train,y_train)"
   ],
   "cell_type": "code",
   "metadata": {},
   "execution_count": 4,
   "outputs": [
    {
     "output_type": "execute_result",
     "data": {
      "text/plain": [
       "0.9469604243166054"
      ]
     },
     "metadata": {},
     "execution_count": 4
    }
   ]
  },
  {
   "cell_type": "code",
   "execution_count": 5,
   "metadata": {},
   "outputs": [
    {
     "output_type": "execute_result",
     "data": {
      "text/plain": [
       "0.9995920032639739"
      ]
     },
     "metadata": {},
     "execution_count": 5
    }
   ],
   "source": [
    "dcs = DecisionTreeClassifier()\n",
    "dcs.fit(X_train,y_train)\n",
    "dcs.score(X_train,y_train)"
   ]
  },
  {
   "cell_type": "code",
   "execution_count": 7,
   "metadata": {},
   "outputs": [
    {
     "output_type": "execute_result",
     "data": {
      "text/plain": [
       "0.9995920032639739"
      ]
     },
     "metadata": {},
     "execution_count": 7
    }
   ],
   "source": [
    "rdmf = RandomForestClassifier()\n",
    "rdmf.fit(X_train, y_train)\n",
    "rdmf.score(X_train, y_train)"
   ]
  },
  {
   "cell_type": "code",
   "execution_count": 10,
   "metadata": {},
   "outputs": [],
   "source": [
    "def position(text):\n",
    "    doc_sample = [str(text)]\n",
    "    z = tfidf_fit.transform(doc_sample)\n",
    "    dcs_p = df_p['Position'][df_p['Classification']==dcs.predict(z)[0]].tolist()\n",
    "    lgt_p = df_p['Position'][df_p['Classification']==lgt.predict(z)[0]].tolist()\n",
    "    rdmf_p = df_p['Position'][df_p['Classification']==rdmf.predict(z)[0]].tolist()\n",
    "    print('DecisionTree\\n',dcs_p,'\\n','Logistic\\n',lgt_p,'\\n','RandomForest\\n',rdmf_p)"
   ]
  },
  {
   "cell_type": "code",
   "execution_count": 12,
   "metadata": {},
   "outputs": [
    {
     "output_type": "stream",
     "name": "stdout",
     "text": [
      "DecisionTree\n [] \n Logistic\n ['นักแสดง ผู้กำกับภาพยนต์ ละคร และงานอื่น ๆ ที่เกี่ยวข้อง', 'นักแสดง', 'ละครวิทยุ', 'นักเล่านิทาน', 'ผู้แสดงแทนนักแสดง', 'ผู้คัดเลือกนักแสดง , เจ้าหน้าที่จัดหานักแสดง', 'ผู้กำกับการแสดงภาพยนตร์', 'ผู้กำกับการแสดงละครโทรทัศน์', 'ผู้กำกับการแสดง (ละครเวที)', 'ผู้กำกับภาพ (ภาพยนตร์)', 'ผู้กำกับภาพ (โทรทัศน์)', 'ผู้กำกับเสียง (ภาพยนตร์)', 'ผู้กำกับเสียง (โทรทัศน์)', 'ผู้กำกับเทคนิค (โทรทัศน์)', 'ผู้กำกับแสง (โทรทัศน์)', 'ผู้ถ่ายภาพนิ่ง (ภาพยนตร์)', 'ผู้ควบคุมการผลิตรายการโทรทัศน์', 'ผู้จัดรายการโทรทัศน์', 'ผู้ควบคุมรายการโทรทัศน์', 'ผู้กำกับรายการโทรทัศน์', 'เจ้าหน้าที่สถานที่รายการละครโทรทัศน์', 'เจ้าหน้าที่จัดผังรายการวิทยุกระจายเสียง , เจ้าหน้าที่ฝ่ายรายการ', 'เจ้าหน้าที่ข้อมูลรายการโทรทัศน์', 'เจ้าหน้าที่ข้อมูลรายการภาพยนตร์', 'ผู้ประสานงานรายการและงานข่าว', 'ผู้กำกับศิลปกรรม (โทรทัศน์และภาพยนตร์)', 'เจ้าหน้าที่งานฉากและศิลปกรรมรายการละครโทรทัศน์', 'ผู้กำกับเวที (โทรทัศน์)', 'ผู้กำกับเวที (ละครเวที)', 'ผู้กำกับศิลป์ (งานโฆษณา)', 'เจ้าหน้าที่สร้างสรรค์รายการโทรทัศน์', 'นักสร้างสรรค์รายการวิทยุกระจายเสียง', 'ผู้ควบคุมความต่อเนื่อง (ภาพยนตร์)', 'เจ้าหน้าที่ธุรกิจและผู้ช่วยธุรกิจกองถ่ายรายการละครโทรทัศน์', 'ผู้ควบคุมดูแลเสื้อผ้าและเครื่องแต่งกาย', 'นักแสดง ผู้กำกับการแสดงและผู้ประกอบอาชีพที่เกี่ยวข้องอื่นๆ', 'Actor / actress', 'Actor, radio dramatic', 'Art director, advertising', 'Art director, Television and motion picture', 'Assistant prop handler, television', 'Controller, continuing picture, motion picture', 'Controller, programme / television', 'Co-ordinator, programme and news', 'Creator, radio broadcasting programme', 'Creator, television programme', 'Data officer, motion picture', 'Data officer, television', 'Director, light / television', 'Director, motion picture', 'Director, picture / motion picture', 'Director, picture / television', 'Director, programme / television', 'Director, sound / motion picture', 'Director, sound / television', 'Director, stage / theatrical', 'Director, technical / television', 'Director, television', 'Film , Stage and Related Actors and Directors', 'Home economist', 'Manage, programme / television', 'Photographer, motion picture', 'Producer, programme / television', 'Selector, actor', 'Setter, radio broadcasting programme', 'Stage director, television', 'Stage director, theatre', 'Story teller, radio and television', 'stuntman ; Impersonator', 'Television programme, officer', 'Wardrober'] \n RandomForest\n ['ผู้เช็ดทำความสะอาด รองเท้าและงานให้บริการตามข้างถนนอื่น ๆ', 'ผู้เช็ดทำความสะอาดรองเท้าและงานให้บริการตามข้างถนนอื่น ๆ', 'ปิดโปสเตอร์', 'แจกใบปลิว', 'พนักงานขัดรองเท้า', 'พนักงานเช็ดกระจกหน้าต่างรถยนต์', 'ผู้ทำงานให้บริการตามข้างถนนอื่นๆ', 'Billposter', 'Shoe – polisher', 'Shoe Cleaning and Other Street Services Elementary Occupations', 'Shoe Cleaning and Other Street Services Elementary Occupations', 'Street – washer']\n"
     ]
    }
   ],
   "source": [
    "position('ทำความสะอาดบ้าน')"
   ]
  },
  {
   "cell_type": "code",
   "execution_count": null,
   "metadata": {},
   "outputs": [],
   "source": [
    "# with open('tfidf_fit.pkl', 'wb') as file:\n",
    "#     pickle.dump(tfidf_fit, file)\n",
    "# with open('dcs_model.pkl', 'wb') as file:\n",
    "#     pickle.dump(dcs, file)\n",
    "# with open('lgt_model.pkl', 'wb') as file:\n",
    "#     pickle.dump(lgt, file)\n",
    "# with open('rdmf_model.pkl', 'wb') as file:\n",
    "#     pickle.dump(rdmf, file)"
   ]
  }
 ]
}